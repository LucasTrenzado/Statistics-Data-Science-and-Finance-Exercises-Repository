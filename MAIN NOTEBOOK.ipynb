{
 "cells": [
  {
   "cell_type": "markdown",
   "id": "bada69bc",
   "metadata": {},
   "source": [
    "# Data Science & Statistics for Finance & Investment Exercises"
   ]
  },
  {
   "cell_type": "markdown",
   "id": "ede9a338",
   "metadata": {},
   "source": [
    "## Bernoulli Distribution in a Finance Institution\n",
    "\n",
    "Assume that you work on the equities trading desk at an institutional money manager that regularly trades with several block brokers. Blocks are orders to sell or buy that are too large for the liquidity ordinarily available on the dealer networks or the stock exchanges. \n",
    "\n",
    "Block brokers call your trading desk when they want to sell blocks of stocks that they think your firm may be interested in buying. You know that these transactions entail risks. There could be an immediate loss if the broker does not fully disclose all information, including unfavorable information the broker's client may have. Your firm calculates the post-trade risk-adjusted returns on the stock purchase from the block brokers."
   ]
  },
  {
   "cell_type": "code",
   "execution_count": null,
   "id": "1b4c3ab0",
   "metadata": {},
   "outputs": [],
   "source": [
    "# Probability of exactly J success given a C chance with a population N\n",
    "import math\n",
    "\n",
    "N = 12\n",
    "J = 3\n",
    "C = 0.5\n",
    "\n",
    "x = math.factorial(N)/  (math.factorial(N-J) * math.factorial(J))\n",
    "\n",
    "p = x * (C**J) * ((1-C)**(N-J))\n",
    "\n",
    "print(\"The probability is\",100*p,\"%\")"
   ]
  },
  {
   "cell_type": "markdown",
   "id": "8e2ba804",
   "metadata": {},
   "source": [
    "## Real-Life Case Study: Common Probability Distributions\n",
    "\n",
    "You are examining the record of an investment newsletter writer who claims a 70\n",
    "percent success rate in making investment recommendations that are profitable over\n",
    "a one-year time horizon. You have the one-year record of the newsletter’s seven\n",
    "most recent recommendations. Four of those recommendations were profitable. If all\n",
    "the recommendations are independent and the newsletter writer’s skill is as claimed,\n",
    "what is the probability of observing four or fewer profitable recommendations out of\n",
    "seven in total?"
   ]
  },
  {
   "cell_type": "code",
   "execution_count": null,
   "id": "fee338e3",
   "metadata": {},
   "outputs": [],
   "source": [
    "# Probability of >= J success given a C chance with a population N\n",
    "import math\n",
    "\n",
    "N4 = 7\n",
    "J4 = 4\n",
    "C4 = 0.7\n",
    "p4 = (math.factorial(N4)/  (math.factorial(N4-J4) * math.factorial(J4))) * (C4**J4) * ((1-C4)**(N4-J4))\n",
    "\n",
    "N3 = 7\n",
    "J3 = 3\n",
    "C3 = 0.7\n",
    "p3 = (math.factorial(N3)/  (math.factorial(N3-J3) * math.factorial(J3))) * (C3**J3) * ((1-C3)**(N3-J3))\n",
    "\n",
    "N2 = 7\n",
    "J2 = 2\n",
    "C2 = 0.7\n",
    "p2 = (math.factorial(N2)/  (math.factorial(N2-J2) * math.factorial(J2))) * (C2**J2) * ((1-C2)**(N2-J2))\n",
    "\n",
    "N1 = 7\n",
    "J1 = 1\n",
    "C1 = 0.7\n",
    "p1 = (math.factorial(N1)/  (math.factorial(N1-J1) * math.factorial(J1))) * (C1**J1) * ((1-C1)**(N1-J1))\n",
    "\n",
    "N0 = 7\n",
    "J0 = 0\n",
    "C0 = 0.7\n",
    "p0 = (math.factorial(N0)/  (math.factorial(N0-J0) * math.factorial(J0))) * (C0**J0) * ((1-C0)**(N0-J0))\n",
    "\n",
    "print(p4)\n",
    "print(p3)\n",
    "print(p2)\n",
    "print(p1)\n",
    "print(p0)\n",
    "r = p4+p3+p2+p1+p0\n",
    "print (\"THE PROBABILITY IS\",r)"
   ]
  },
  {
   "cell_type": "markdown",
   "id": "50c06552",
   "metadata": {},
   "source": [
    "## Linear Regression for Income prediction\n",
    "\n",
    "In this assignment we will be using an input file that contains Annual Income, Education Years and Age data for a cross section of people. The input file is in an excel format. Assuming that Education Years and Age (the independent variables) adequately define Annual Income (the dependent variable), please write a multiple linear regression and estimate the coefficients and the intercept term for this equation using LinearRegression from sklearn.linear_model:\n",
    "\n",
    "Annual_Income = constant + coeffficient_1 * Education_Years + coefficient_2 * Age"
   ]
  },
  {
   "cell_type": "code",
   "execution_count": null,
   "id": "00ae1c43",
   "metadata": {},
   "outputs": [],
   "source": [
    "# Import the required libraries\n",
    "import numpy as np\n",
    "import pandas as pd\n",
    "from sklearn.linear_model import LinearRegression\n",
    "\n",
    "# read Excel into a dataframe\n",
    "dincome = pd.read_excel('Income Data.xlsx', sheet_name='Data')\n",
    "\n",
    "# Assign independent variables, Education_Years and Age columns to variable X\n",
    "X=dincome[['Education_Years', 'Age']]\n",
    "# Assign dependent variable, Annual_Income to Y\n",
    "Y=dincome[['Annual_Income']]\n",
    "\n",
    "# Call a regressor\n",
    "Regressor = LinearRegression()\n",
    "\n",
    "# Fit the model\n",
    "Regressor.fit(X,Y)   \n",
    "# Print Coefficients\n",
    "# Print Intercept\n",
    "print(\"Coefficients: \"+ str(Regressor.coef_))\n",
    "print(\"Intercept: \"+ str(Regressor.intercept_))"
   ]
  },
  {
   "cell_type": "markdown",
   "id": "916fc72f",
   "metadata": {},
   "source": [
    "## Logistic Regression for Credit Profile prediction\n",
    "We learnt how Python could be used for finding a solution to logistic regression problems. In this assignment we will be using the exact same input file we used in the lesson. To recap, this input file contains, Credit_Profile, Annual Income, Education Years and Age data for a cross section of people. The input file is in an excel format. Assuming that Annual Income, Education Years and Age (the independent variables) adequately define if a Credit Profile (the independent variable) is loan worthy (1) or not (0), this program estimate the coefficients and the intercept term for this equation using the logit model from the statsmodels.api library. This part was illustrated in the lesson. In this assignment, the program code flow is exactly the same till the training/ modelling stage. No inputs are required from learners till the training/ modelling stage. In the testing stage however, learners would need to add 2 lines of code to predict probabilities of credit profiles given input values for the indepdendent variable.\n",
    "\n",
    "Just to recap the starting point in the logistic regression equation is:\n",
    "\n",
    "log (probability of odds for Credit_Profile) = constant + coeffficient_1 * Annual_Income + coefficient_2 * Education_Years + coefficient_3 * Age"
   ]
  },
  {
   "cell_type": "code",
   "execution_count": null,
   "id": "022b2cd1",
   "metadata": {},
   "outputs": [],
   "source": [
    "#import the required libraries\n",
    "\n",
    "import numpy as np\n",
    "import pandas as pd\n",
    "import matplotlib.pyplot as plt\n",
    "import statsmodels.api as sm\n",
    "\n",
    "#Read the input files \n",
    "    \n",
    "dcredit = pd.read_excel('Helper Data.xlsx',sheet_name ='Credit Profile')\n",
    "dcredit\n",
    "\n",
    "# defining the dependent and independent variables\n",
    "Xtrain = dcredit[['Annual_Income', 'Education_Years', 'Age']]\n",
    "#Xtrain = dcredit[[ 'Education_Years', 'Age']]\n",
    "ytrain = dcredit[['Credit_Profile']]\n",
    "\n",
    "# building the model and fitting the data\n",
    "logreg = sm.Logit(ytrain, Xtrain).fit()\n",
    "print(logreg.summary())\n",
    "\n",
    "\n",
    "\n",
    "\n",
    "# TESTING THE MODEL WITH NEW DATA\n",
    "xdata = {'Annual_Income':[100000,40000,90000,80000,90000],\n",
    "        'Education_Years':[9,9,15,19,29],\n",
    "        'Age':[29,26,27,39,49]}\n",
    "ydata = {'Credit_Profile':[1,0,1,1,0 ]}\n",
    "\n",
    "xtest = pd.DataFrame(xdata)\n",
    "ytest = pd.DataFrame(ydata)\n",
    "\n",
    "ypredict = logreg.predict(xtest)\n",
    "print (ypredict)\n"
   ]
  },
  {
   "cell_type": "markdown",
   "id": "51aa9fff",
   "metadata": {},
   "source": [
    "## Pie Chart for Portfolio Sectors\n",
    "In preparation for a report that you have been asked to write by your manager you decide to create a pie chart that you will visually demonstrate the average sector allocation of the 50 largest funds. This data is in an xlsx spreadsheet called 'Course 1 Final Assessment' and the sheet named 'SectorX'. The sectors are in a column headed 'Sector' and their relative frequency is the a column headed 'Big50'. Once you have produced the pie chart it needs to be saved so that it can be included in your report. Please 'save image as' by right clicking on the image."
   ]
  },
  {
   "cell_type": "code",
   "execution_count": null,
   "id": "86dcf625",
   "metadata": {},
   "outputs": [],
   "source": [
    "import pandas as pd\n",
    "import numpy as np\n",
    "import matplotlib.pyplot as plt\n",
    "data=pd.read_excel('C 1 F Data',sheet_name='SectorX')\n",
    "labels=data['Sector']\n",
    "sizes=data['Big50']\n",
    "\n",
    "\n",
    "def absolute_value(val):\n",
    "    a  = np.round(val/100.*sizes.sum(), 0)\n",
    "    return a\n",
    "\n",
    "\n",
    "plt.pie(sizes, labels=labels,autopct=absolute_value)\n",
    "plt.show()"
   ]
  },
  {
   "cell_type": "markdown",
   "id": "5e89970c",
   "metadata": {},
   "source": [
    "## Histogram for Return Distributions\n",
    "You now want do calculate the confidence interval for large funds based on the sample of 50 that you have used so far. As the DOSM, which is the basis of sampling theory, makes certain assumptions about the population distribution you decide that you first want to visualise what the sample distribution looks like. You therefore want to produce a histogram of the sample's returns. The relevant data is on the excel spreadsheet called 'Course 1 Final Assessment', sheet name 'Big50' and column headed \"Return\". You decide to use matplotlib.pyplot to creat a histogram and decide that ten bins should provide enough detail. Please write the suitable code in the cell below."
   ]
  },
  {
   "cell_type": "code",
   "execution_count": null,
   "id": "a6f115e3",
   "metadata": {
    "scrolled": true
   },
   "outputs": [],
   "source": [
    "import pandas as pd\n",
    "import matplotlib.pyplot as plt\n",
    "data=pd.read_excel('Course 1 Final Assessment.xlsx',sheet_name='Big50')\n",
    "plt.hist(data['Return'],)\n",
    "plt.show()"
   ]
  },
  {
   "cell_type": "markdown",
   "id": "85cc2bd8",
   "metadata": {},
   "source": [
    "## Mean and Average of Returns\n",
    "As an analyst you have collected data on 215 funds which shows for each fund their AUM ($bn), most recent annualised return (%) and break down of stocks across eight market sectors - consumer, financial, industrials, healthcare, utilities, f&b, energy and technology.\n",
    "\n",
    "The first idea you have is to wonder whether large funds have a different risk/return profile to small funds. You decide to investigate this by calculating the coefficient of variation (C/V) for the biggest 50 funds (Big50) and for the smallest 50 funds (Small50). The first step in doing this is to calculate the return and the standard deviation for Big50 and Small50.\n",
    "\n",
    "Using the data in an excel spreadsheet called 'Course 1 Final Assessment', sheet name \"Big50 and column headed 'Return', calculate, using 'statistics', the mean and standard deviation of the 50 largest funds (Big50). Please round the answers to two decimal places using the instruction print(round(x,2),round(y,2)) where x and y are the two variables (mean and standard deviation) that you are printing."
   ]
  },
  {
   "cell_type": "code",
   "execution_count": null,
   "id": "b8f19610",
   "metadata": {},
   "outputs": [],
   "source": [
    "import pandas as pd\n",
    "import numpy as np\n",
    "data =pd.read_excel('C 1 F Data.xlsx',sheet_name= 'Big50')\n",
    "bigmean = np.mean(data['Return'])\n",
    "bigstdv = np.std(data['Return'])\n",
    "print(round(bigmean,2),round(bigstdv,2))"
   ]
  },
  {
   "cell_type": "markdown",
   "id": "79df8039",
   "metadata": {},
   "source": [
    "## Bar Chart with Color"
   ]
  },
  {
   "cell_type": "code",
   "execution_count": null,
   "id": "12ca0120",
   "metadata": {},
   "outputs": [],
   "source": [
    "import pandas as pd\n",
    "import matplotlib.pyplot as plt\n",
    "data=pd.read_excel(\"C 1 4 Data.xlsx\",sheet_name=\"Bar Chart\")\n",
    "sector=data['Sector']\n",
    "frequency=data['Freq']\n",
    "plt.bar(sector,frequency,color=['red','blue','orange','purple','brown','grey'])\n",
    "plt.show()"
   ]
  },
  {
   "cell_type": "markdown",
   "id": "b4a726c5",
   "metadata": {},
   "source": [
    "## Scatter Plot for P/E Analysis\n",
    "As an analyst you are researching whether there is a correlation between a stocks P/E (price to earnings) multiple and the excess return the stock generates. You have collected the data for twenty stock and this is on an excel spreadsheet called 'Course 1 Module 4', and a sheet called 'Scatter Plot'. You decide to create a scatter plot of this date labelling the x axis 'P/E multiple' and the y axis 'Alpha\". The data for the x axis is in a column headed 'P/E' and the data for the y axis is in a column headed 'Alpha'. Create this scatterplot using matplotlib.pyplot."
   ]
  },
  {
   "cell_type": "code",
   "execution_count": null,
   "id": "a927183e",
   "metadata": {},
   "outputs": [],
   "source": [
    "import matplotlib.pyplot as plt\n",
    "import pandas as pd\n",
    "df_ret=pd.read_excel(\"C 1 4 Data.xlsx\",sheet_name=\"Scatter Plot\")\n",
    "x = df_ret['P/E']\n",
    "y = df_ret ['Alpha']\n",
    "plt.scatter(x,y)\n",
    "plt.xlabel('P/E multiple')\n",
    "plt.ylabel('Alpha')\n",
    "plt.show()\n",
    "\n",
    "\n",
    "# With Matplotlib\n",
    "\n",
    "import matplotlib.pyplot as plt\n",
    "x=[106,108,109,113,115,120,121,123,125,126]\n",
    "y=[2.0,2.1,2.1,2.3,2.4,2.6,2.6,2.7,2.8,3.0]\n",
    "plt.scatter(x,y)\n",
    "plt.xlabel('Stock Price')\n",
    "plt.ylabel('Bond Yield')\n",
    "plt.show()"
   ]
  },
  {
   "cell_type": "markdown",
   "id": "3a2f18ec",
   "metadata": {},
   "source": [
    "## Using Weighted Mean for Returns\n",
    "\n",
    "Using 'numpy' calculate the weighted mean return using the data in the table shown below. Study the example in the lesson and adapt it to this data. \n",
    "\n",
    "The key line of code to calculate the weighted mean will be: weighted_avg_m3=round(average(distribution,weights=weight),2) but first distribution and weight will have to be defined e.g.distribution(return)=(X1,X2,X3), weight(weighting)=(X1,X2,X3).\n",
    "\n",
    "\n",
    "|weighting|return|\n",
    "|:---:|:---:|\n",
    "|25%|1.2%|\n",
    "|45%|6.7%|\n",
    "|30%|3.4%|"
   ]
  },
  {
   "cell_type": "code",
   "execution_count": null,
   "id": "b3dd1fb9",
   "metadata": {},
   "outputs": [],
   "source": [
    "from numpy import average\n",
    "distribution=(1.2,6.7,3.4)\n",
    "weight=(0.25,0.45,0.3)\n",
    "weighted_avg_m3=round(average(distribution,weights=weight),2)\n",
    "print(weighted_avg_m3)"
   ]
  }
 ],
 "metadata": {
  "kernelspec": {
   "display_name": "Python 3 (ipykernel)",
   "language": "python",
   "name": "python3"
  },
  "language_info": {
   "codemirror_mode": {
    "name": "ipython",
    "version": 3
   },
   "file_extension": ".py",
   "mimetype": "text/x-python",
   "name": "python",
   "nbconvert_exporter": "python",
   "pygments_lexer": "ipython3",
   "version": "3.9.12"
  }
 },
 "nbformat": 4,
 "nbformat_minor": 5
}
